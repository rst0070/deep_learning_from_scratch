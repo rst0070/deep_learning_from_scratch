{
 "cells": [
  {
   "cell_type": "code",
   "execution_count": 1,
   "metadata": {},
   "outputs": [],
   "source": [
    "import numpy as np"
   ]
  },
  {
   "attachments": {},
   "cell_type": "markdown",
   "metadata": {},
   "source": [
    "# 어떻게 학습을 시킬것인가\n",
    "  \n",
    "__학습이란 무엇인가?__  \n",
    "* 학습 = 훈련데이터를 통해 신경망의 매개변수의 최적값을 자동으로 획득하는것  \n",
    "  \n",
    "__매개변수의 최적값의 기준은?__  \n",
    "손실함수를 이용한다. 손실함수는 얼마나 정답에 가까운지 나타내는것.  \n",
    "  \n",
    "__손실함수를 이용해서 어떻게 매개변수에 영향을 주는가?__  \n",
    "손실함수와 매개변수의 상관관계는 '미분값'을 통해서 알 수 있다. 손실함수 그래프의 지역적 극소점을 찾기 위해 미분값을 이용해 매개변수를 업데이트 한다.  \n",
    "이때 대표적으로 경사하강법이 사용된다.  \n",
    "  \n",
    "__범용능력이란?__  \n",
    "훈련데이터에 포함되지 않은 데이터 또한 올바르게 정답을 추론하는 능력. 이것이 기계학습의 목표이다.  \n",
    "  \n",
    "__오버피팅이란?__  \n",
    "한 데이터셋에만 지나치게 최적화된 상태. 다른 데이터셋에서 올바른 출력을 하지 못할 확률이 올라간다.  \n",
    "  "
   ]
  },
  {
   "attachments": {},
   "cell_type": "markdown",
   "metadata": {},
   "source": [
    "## 1. 손실함수\n",
    "손실함수는 output과 정답의 차이(error)를 나타낸다. 대표적인 두 종류의 error가 있다. 이때 정답은 one-hot-encoding 방식으로 표현한다.  \n",
    "따라서 밑의 예시의 $t_k$는 0아니면 1이다.  \n",
    "  \n",
    "### 1.1 Mean Squared Error\n",
    "$\n",
    "E \\, = \\, \\frac{1}{2} \\sum_{k} (y_k - t_k)^2 \\, (t_k: True Answer, \\, y_k: output)\n",
    "$  "
   ]
  },
  {
   "cell_type": "code",
   "execution_count": 2,
   "metadata": {},
   "outputs": [],
   "source": [
    "def MSE(y:np.array, t:np.array):\n",
    "    return 0.5*np.sum((y - t) ** 2)"
   ]
  },
  {
   "attachments": {},
   "cell_type": "markdown",
   "metadata": {},
   "source": [
    "### 1.2 Cross Entropy Error\n",
    "$\n",
    "E \\, = \\, - \\sum_{k} (t_k \\log_{e}{y_k}) \\, (t_k: True Answer, \\, y_k: output)\n",
    "$  \n",
    "  "
   ]
  },
  {
   "cell_type": "code",
   "execution_count": 3,
   "metadata": {},
   "outputs": [],
   "source": [
    "def CCE(y:np.array, t:np.array):\n",
    "    delta = 1e-7 # log_e에 적용되는 값이 0이 아니도록 하는 상수\n",
    "    return -np.sum(t * np.log(y + delta))"
   ]
  },
  {
   "attachments": {},
   "cell_type": "markdown",
   "metadata": {},
   "source": [
    "### 1.3 미니배치 학습과 손실함수 형태  \n",
    "batch 학습의 경우 데이터 전체에 대해 error값의 평균을 Error로 사용한다.  \n",
    "따라서 아래와 같은 형태의 손실함수를 갖게 된다.  \n",
    "$\n",
    "MSE \\, = \\, \\frac{1}{N} \\sum_{n} (\\frac{1}{2} \\sum_{k} (y_k - t_k)^2) \\\\\n",
    "CCE \\, = \\, \\frac{1}{N} \\sum_{n} (- \\sum_{k} (t_k \\log_{e}{y_k}))\n",
    "$  "
   ]
  },
  {
   "attachments": {},
   "cell_type": "markdown",
   "metadata": {},
   "source": [
    "## 2. 경사하강법\n",
    "매개변수가 많은 함수의 최솟값을 구하기는 어려운일이다. 신경망의 학습의 경우 다양한 매개변수가 관여하는 손실함수를 최솟값으로 만들어야한다. \n",
    "이때 경사하강법을 이용하게된다.  \n",
    "  \n",
    "경사하강법은 기울기가 0이되는 지점을 찾는 방식이다. 극소, 최소값을 갖는 지점의 기울기가 0이라는 특징을 이용한것이다.  \n",
    "\n",
    "### 2.1 기울기 구하기\n",
    "어떤 함수 $f$의 기울기는 다음으로 정의 할 수 있다. $slope \\, of \\, f \\, = \\, (\\frac{\\partial f}{\\partial x_1},\\,\\frac{\\partial f}{\\partial x_2}, \\cdots , \\frac{\\partial f}{\\partial x_n})$  \n",
    "수치적 미분을 이용한 편미분을 이용한다.  \n",
    "이때 중앙차분 방식으로 미분한다."
   ]
  },
  {
   "cell_type": "code",
   "execution_count": 6,
   "metadata": {},
   "outputs": [],
   "source": [
    "# @param function - 수치적으로 미분할 함수\n",
    "# @param x - 매개변수\n",
    "def numerical_diff(f, x:np.array):\n",
    "    x_gap = 0.001\n",
    "    result = np.zeros_like(x)\n",
    "    \n",
    "    for (x_idx, x_origin_val) in enumerate(x):\n",
    "        \n",
    "        x[x_idx] += x_gap\n",
    "        f1 = f(x) # function(x+h)\n",
    "        x[x_idx] -= 2*x_gap\n",
    "        f2 = f(x) # function(x-h)\n",
    "        \n",
    "        result[x_idx] = (f1 - f2) / (2*x_gap)\n",
    "        \n",
    "        x[x_idx] = x_origin_val # 입력값 정상화\n",
    "    \n",
    "    return result"
   ]
  },
  {
   "attachments": {},
   "cell_type": "markdown",
   "metadata": {},
   "source": [
    "### 2.2 기울기를 이용한 경사하강법\n",
    "위의 방식으로 구한 기울기를 이용해 각 매개변수를 갱신하면된다.  \n",
    "수식은 다음과 같다.  \n",
    "$\n",
    "x_i \\, := \\, x_i - \\alpha\\frac{\\partial f}{\\partial x_i}\n",
    "$  \n",
    "위 수식에서 $x$는 매개변수, $f$는 손실함수, $\\alpha$는 학습률을 의미한다.  \n",
    "이때 학습률이 크면 빠르게 매개변수가 갱신되지만 정확한 극소점을 찾는데 어려움이 있을 수 있으며, 학습률이 작으면 오랜 시간이 걸릴수 있다.  "
   ]
  },
  {
   "attachments": {},
   "cell_type": "markdown",
   "metadata": {},
   "source": [
    "## 3. 신경망에 경사하강법 적용해보기\n",
    "신경망의 각 층을 살펴보면 층을 구성하는 요소들을 행렬로 나타낼 수 있다.  \n",
    "입력 $X$, 입력에 대한 가중치 $W$, 층의 출력 $Y$, 층에 적용되는 편향$B$.  \n",
    "이들간의 관계를 나타내면 다음과 같다.  \n",
    "$\n",
    "XW \\, + \\, B \\, = \\, Y \\\\ \\\\\n",
    "when\\,loss\\,is\\,defined\\,as\\,L \\\\ \\\\\n",
    "\\frac{\\partial L}{\\partial W} = \\frac{\\partial L}{\\partial Y} X^T \\\\ \\\\\n",
    "\\frac{\\partial L}{\\partial X} = \\frac{\\partial L}{\\partial Y} W^T \\\\ \\\\\n",
    "\\frac{\\partial L}{\\partial B} = \\frac{\\partial L}{\\partial Y}\\\\ \\\\\n",
    "$  \n",
    "위의 값들을 이용해 각 요소들을 업데이트 한다.  "
   ]
  },
  {
   "cell_type": "code",
   "execution_count": 16,
   "metadata": {},
   "outputs": [
    {
     "data": {
      "image/png": "[encoded data removed]",
      "text/plain": [
       "<Figure size 640x480 with 1 Axes>"
      ]
     },
     "metadata": {},
     "output_type": "display_data"
    }
   ],
   "source": [
    "import matplotlib.pyplot as plt\n",
    "\n",
    "class Layer:\n",
    "    # X: 입력 데이터\n",
    "    # W: 가중치\n",
    "    # B: 편향값\n",
    "    # T: 정답\n",
    "    # Y: 출력값\n",
    "    #\n",
    "    def __init__(self, X:np.array):\n",
    "        \n",
    "        self.X = X\n",
    "        self.T = np.ones(3)\n",
    "        self.Y = np.zeros(3)\n",
    "        self.W = np.random.choice(1, (X.size, 3))\n",
    "        self.B = np.random.choice(1, 3)\n",
    "        self.Y = self.X.dot(self.W) + self.B\n",
    "        \n",
    "    def loss_function(self, Y):\n",
    "        return 0.5*np.sum((self.T - Y) ** 2)\n",
    "    \n",
    "    # 위의 수식을 이용해서 가중치와 편향값을 조절한다.\n",
    "    def action(self, alpha=0.02):\n",
    "        \n",
    "        dLdY = numerical_diff(self.loss_function, self.Y)\n",
    "        dLdW = dLdY.dot(np.transpose(self.X))\n",
    "        dLdB = dLdY.copy()\n",
    "        \n",
    "        self.W = self.W - alpha*dLdW\n",
    "        self.B = self.B - alpha*dLdB\n",
    "        self.Y = self.X.dot(self.W) + self.B\n",
    "        return (self.Y, self.W, self.B)\n",
    "    \n",
    "\n",
    "test = Layer(X = np.array([1.2, 1.8, 1.5]))\n",
    "steps = np.arange(0, 50, 1)\n",
    "y = [[],[],[]]\n",
    "w = [[],[],[]]\n",
    "b = [[],[],[]]\n",
    "for i in steps:\n",
    "    Y, W, B = test.action()\n",
    "    for idx in range(0, 3):\n",
    "        y[idx].append(Y[idx])\n",
    "        w[idx].append(W[idx])\n",
    "        b[idx].append(B[idx])\n",
    "\n",
    "for idx in range(0, 3):\n",
    "    y[idx] = np.array(y[idx])\n",
    "    b[idx] = np.array(b[idx])\n",
    "    w[idx] = np.array(w[idx])\n",
    "    \n",
    "    plt.plot(steps, y[idx], label='y %d' % idx)\n",
    "    plt.plot(steps, w[idx], label='w %d' % idx)\n",
    "    plt.plot(steps, b[idx], label='b %d' % idx)\n",
    "    \n",
    "plt.legend()\n",
    "plt.show()\n",
    "            "
   ]
  },
  {
   "attachments": {},
   "cell_type": "markdown",
   "metadata": {},
   "source": [
    "위에서 learning rate인 alpha를 변경하면 학습의 양상이 변화함을 알 수 있다.  "
   ]
  }
 ],
 "metadata": {
  "kernelspec": {
   "display_name": "base",
   "language": "python",
   "name": "python3"
  },
  "language_info": {
   "codemirror_mode": {
    "name": "ipython",
    "version": 3
   },
   "file_extension": ".py",
   "mimetype": "text/x-python",
   "name": "python",
   "nbconvert_exporter": "python",
   "pygments_lexer": "ipython3",
   "version": "3.9.13 (main, Aug 25 2022, 23:51:50) [MSC v.1916 64 bit (AMD64)]"
  },
  "orig_nbformat": 4,
  "vscode": {
   "interpreter": {
    "hash": "bc3d4a3c7dbff72f14f38a3086f756d1b4fd12ee242fef247cc57636fbb2858b"
   }
  }
 },
 "nbformat": 4,
 "nbformat_minor": 2
}
