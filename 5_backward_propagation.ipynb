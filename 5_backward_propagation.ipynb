{
 "cells": [
  {
   "attachments": {},
   "cell_type": "markdown",
   "metadata": {},
   "source": [
    "# Backward propagation\n",
    "__역할__  \n",
    "최종 손실함수 L에 영향을 주는 요인들을 계산하기 위해 사용되는 기법이다. 이전과 같이 한층 한층 입력과 출력간의 관계에서 미분을 계산하면 오랜 시간이 소요된다.  \n",
    "하지만 매개변수간의 수식을 통해 손실함수의 미분값을 연쇄법칙으로 간단하게 이끌어낸다면 좀더 빠른시간으로 처리가 가능하다.  \n",
    "  \n",
    "__연쇄 법칙 예시__  \n"
   ]
  },
  {
   "attachments": {},
   "cell_type": "markdown",
   "metadata": {},
   "source": [
    "## 행렬 연산을 통해 계층간의 연쇄법칙 이용"
   ]
  },
  {
   "attachments": {},
   "cell_type": "markdown",
   "metadata": {},
   "source": [
    "### Affine 계층\n",
    "입력 $X$, 입력에 대한 가중치 $W$, 층의 출력 $Y$, 층에 적용되는 편향$B$.  \n",
    "이들간의 관계를 나타내면 다음과 같다.  \n",
    "$\n",
    "XW \\, + \\, B \\, = \\, Y \\\\ \\\\\n",
    "when\\,loss\\,is\\,defined\\,as\\,L \\\\ \\\\\n",
    "\\frac{\\partial L}{\\partial W} = \\frac{\\partial L}{\\partial Y} X^T \\\\ \\\\\n",
    "\\frac{\\partial L}{\\partial X} = \\frac{\\partial L}{\\partial Y} W^T \\\\ \\\\\n",
    "\\frac{\\partial L}{\\partial B} = \\frac{\\partial L}{\\partial Y}\\\\ \\\\\n",
    "$  \n",
    "  \n",
    "이전 계층을 업데이트 시키기 위해 $\\frac{\\partial L}{\\partial W}$ 를 전달하고,  \n",
    "가중치를 업데이트 하기위해 $\\frac{\\partial L}{\\partial X}$ 사용,  \n",
    "편향을 업데이트 하기위해 $\\frac{\\partial L}{\\partial B}$ 사용한다."
   ]
  },
  {
   "cell_type": "code",
   "execution_count": null,
   "metadata": {},
   "outputs": [],
   "source": [
    "class"
   ]
  },
  {
   "attachments": {},
   "cell_type": "markdown",
   "metadata": {},
   "source": [
    "### 활성화 함수 계층\n",
    "각 Affine 계층의 output은 활성화함수를 통과한다.  \n",
    "따라서 활성화 함수 계층은 Affine 계층으로 역전파한다.  "
   ]
  },
  {
   "attachments": {},
   "cell_type": "markdown",
   "metadata": {},
   "source": [
    "#### ReLU계층\n",
    "$\n",
    "y\\,=\\,\n",
    "\\begin{cases}\n",
    "x\\,(x > 0) \\\\\n",
    "0\\,(x \\leq 0) \\\\\n",
    "\\end{cases}\n",
    "$"
   ]
  }
 ],
 "metadata": {
  "kernelspec": {
   "display_name": "base",
   "language": "python",
   "name": "python3"
  },
  "language_info": {
   "name": "python",
   "version": "3.9.13 (main, Aug 25 2022, 23:51:50) [MSC v.1916 64 bit (AMD64)]"
  },
  "orig_nbformat": 4,
  "vscode": {
   "interpreter": {
    "hash": "bc3d4a3c7dbff72f14f38a3086f756d1b4fd12ee242fef247cc57636fbb2858b"
   }
  }
 },
 "nbformat": 4,
 "nbformat_minor": 2
}
