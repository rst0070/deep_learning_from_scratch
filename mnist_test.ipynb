{
 "cells": [
  {
   "attachments": {},
   "cell_type": "markdown",
   "metadata": {},
   "source": [
    "# MNIST Dataset 적용해보기"
   ]
  },
  {
   "attachments": {},
   "cell_type": "markdown",
   "metadata": {},
   "source": [
    "## data loader\n"
   ]
  },
  {
   "cell_type": "code",
   "execution_count": 1,
   "metadata": {},
   "outputs": [],
   "source": [
    "import csv\n",
    "import numpy as np\n",
    "\n",
    "IMG_SIZE = int(784)\n",
    "\n",
    "def train_data_loader():\n",
    "    file = open('./digit-recognizer/train.csv', 'r')\n",
    "    reader = csv.reader(file, delimiter=',')\n",
    "    ans = []\n",
    "    img = []\n",
    "    \n",
    "    for idx, row in enumerate(reader):\n",
    "        if idx != 0:\n",
    "            ans.append(np.zeros(10))\n",
    "            ans[idx-1][int(row[0])] = 1\n",
    "            \n",
    "            img.append(row[1:IMG_SIZE])\n",
    "    \n",
    "    return (ans, img)\n",
    "\n",
    "train_ans, train_img = train_data_loader()\n",
    "train_ans = np.array(train_ans, dtype=float)\n",
    "train_img = np.array(train_img, dtype=float)"
   ]
  },
  {
   "attachments": {},
   "cell_type": "markdown",
   "metadata": {},
   "source": [
    "## data check"
   ]
  },
  {
   "cell_type": "code",
   "execution_count": 2,
   "metadata": {},
   "outputs": [
    {
     "name": "stdout",
     "output_type": "stream",
     "text": [
      "(1000, 783)\n",
      "[0. 1. 0. 0. 0. 0. 0. 0. 0. 0.]\n"
     ]
    }
   ],
   "source": [
    "train_img = train_img[0:1000]\n",
    "train_ans = train_ans[0:1000]\n",
    "print(train_img.shape)\n",
    "print(train_ans[0])"
   ]
  },
  {
   "cell_type": "markdown",
   "metadata": {},
   "source": []
  },
  {
   "attachments": {},
   "cell_type": "markdown",
   "metadata": {},
   "source": [
    "## Affine 계층 구현"
   ]
  },
  {
   "cell_type": "code",
   "execution_count": 3,
   "metadata": {},
   "outputs": [],
   "source": [
    "# Affine 계층\n",
    "#\n",
    "class Affine:\n",
    "    def __init__(self, input_size, output_size):\n",
    "        self.W = 0.01 * np.random.randn(input_size, output_size) * np.sqrt(1.0 / input_size)\n",
    "        #print(self.W)\n",
    "        self.B = 0.01 * np.random.randn(output_size)\n",
    "    \n",
    "    # input 벡터를 입력받고\n",
    "    # output을 반환한다.\n",
    "    def forwardProp(self, X):\n",
    "        self.X = X\n",
    "        self.Y = self.X.dot(self.W) + self.B\n",
    "        #print('Y: ', self.Y)\n",
    "        return self.Y\n",
    "    # 가중치와 편향을 변경하고\n",
    "    # input의 오차를 반환한다.\n",
    "    def backwardProp(self, error, learning_rate = 0.001):\n",
    "        dLdY = error\n",
    "        dLdX = dLdY.dot(np.transpose(self.W))\n",
    "        dLdW = np.transpose(self.X).dot(dLdY)\n",
    "        dLdB = dLdY\n",
    "        \n",
    "        self.W = self.W - learning_rate*dLdW\n",
    "        self.B = self.B - learning_rate*dLdB\n",
    "        \n",
    "        return dLdX        \n",
    "        "
   ]
  },
  {
   "attachments": {},
   "cell_type": "markdown",
   "metadata": {},
   "source": [
    "## ReLU 계층 구현"
   ]
  },
  {
   "cell_type": "code",
   "execution_count": 4,
   "metadata": {},
   "outputs": [],
   "source": [
    "class ReLU:\n",
    "    # size: input과 output의 수\n",
    "    def __init__(self, size):\n",
    "        self.size = size\n",
    "        \n",
    "    # input 행렬을 입력받고\n",
    "    # output을 반환한다.\n",
    "    def forwardProp(self, X):\n",
    "        # 0보다 작은 값은 0으로 바꿔버린다.\n",
    "        #print(X)\n",
    "        self.Y = np.where(X < 0, 0, X)\n",
    "        #print(self.Y)\n",
    "        return self.Y        \n",
    "    \n",
    "    # 가중치와 편향을 변경하고\n",
    "    # input의 오차를 반환한다.\n",
    "    def backwardProp(self, error):\n",
    "        dLdX = error * self.Y\n",
    "        return dLdX"
   ]
  },
  {
   "attachments": {},
   "cell_type": "markdown",
   "metadata": {},
   "source": [
    "## Softmax 계층 구현"
   ]
  },
  {
   "cell_type": "code",
   "execution_count": 5,
   "metadata": {},
   "outputs": [],
   "source": [
    "class Softmax:\n",
    "    # size: input과 output의 수\n",
    "    def __init__(self, size):\n",
    "        self.size = size\n",
    "        \n",
    "    def forwardProp(self, X):\n",
    "        theta = 0.000001\n",
    "        self.X = X - np.max(X)\n",
    "        self.Y = np.exp(self.X)\n",
    "        for idx, row in enumerate(self.Y):\n",
    "            self.Y[idx] = row / (np.sum(self.Y[idx]) + theta)\n",
    "        \n",
    "        return self.Y\n",
    "    \n",
    "    def backwardProp(self, error):\n",
    "        theta = 0.000001\n",
    "        dLdX = []\n",
    "        for idx in range(0, len(error)):\n",
    "            S = np.sum(self.Y[idx])\n",
    "            dLdX.append((error[idx]* np.exp(self.Y[idx]) * (S - 1)) / (S + theta))\n",
    "        return np.array(dLdX)"
   ]
  },
  {
   "attachments": {},
   "cell_type": "markdown",
   "metadata": {},
   "source": [
    "## CEE 계층 구현"
   ]
  },
  {
   "cell_type": "code",
   "execution_count": 6,
   "metadata": {},
   "outputs": [],
   "source": [
    "class CEE:\n",
    "    # size: input과 output의 수\n",
    "    def __init__(self, size):\n",
    "        self.size = size\n",
    "    \n",
    "    def getError(self, X, answer):\n",
    "        theta = 0.000001\n",
    "        self.error = -np.sum(answer * np.log(X + theta))\n",
    "        return self.error\n",
    "    def backwardProp(self, X, ans):\n",
    "        theta = 0.000001\n",
    "        return -ans / (X + theta)"
   ]
  },
  {
   "attachments": {},
   "cell_type": "markdown",
   "metadata": {},
   "source": [
    "## Softmax-with-Loss"
   ]
  },
  {
   "cell_type": "code",
   "execution_count": 10,
   "metadata": {},
   "outputs": [],
   "source": [
    "class SoftmaxLoss:\n",
    "    def __init__(self):\n",
    "        self.loss = None\n",
    "        self.Y = None\n",
    "        self.T = None\n",
    "    \n",
    "    # 벡터에 대한 softmax\n",
    "    def softmax(self, X):\n",
    "        x = X - np.max(X)        \n",
    "        return x / np.sum(x)\n",
    "    \n",
    "    def CEE(self, Y, T):\n",
    "        theta = 0.0001\n",
    "        return -np.sum(T * np.log(Y + theta))\n",
    "    \n",
    "    def forwardProp(self, X, T):\n",
    "        self.T = T\n",
    "        self.Y = []\n",
    "        self.loss = 0.\n",
    "        for r in range(self.T.shape[0]):\n",
    "            self.Y.append(self.softmax(X[r]))\n",
    "            self.loss += self.CEE(self.Y[r], self.T[r])\n",
    "        self.Y = np.array(self.Y)\n",
    "        #print(self.Y)\n",
    "        self.loss /= self.T.shape[0]\n",
    "        return self.loss\n",
    "        \n",
    "    def backwardProp(self):\n",
    "        batch_size = self.T.shape[0]\n",
    "        return (self.Y - self.T) / batch_size\n",
    "        "
   ]
  },
  {
   "attachments": {},
   "cell_type": "markdown",
   "metadata": {},
   "source": [
    "## 조합\n",
    "\n",
    "input(100, 784) - Affine(100, 1000) - ReLU(100, 1000) - Affine(100, 1000) - ReLU(100, 1000) - Affine((100, 1000) -> (100, 10)) - ReLU(100, 10) - Softmax(100, 10) - CCE(100, 10)"
   ]
  },
  {
   "cell_type": "code",
   "execution_count": 11,
   "metadata": {},
   "outputs": [
    {
     "data": {
      "image/png": "[encoded data removed]",
      "text/plain": [
       "<Figure size 640x480 with 1 Axes>"
      ]
     },
     "metadata": {},
     "output_type": "display_data"
    }
   ],
   "source": [
    "import matplotlib.pyplot as plt\n",
    "\n",
    "layers = [\n",
    "    [Affine(783, 1000), ReLU(1000)],\n",
    "    [Affine(1000, 1000), ReLU(1000)],\n",
    "    [Affine(1000, 10), ReLU(10)],\n",
    "    SoftmaxLoss()\n",
    "]\n",
    "\n",
    "steps = np.arange(0, 100, 1)\n",
    "errors = []\n",
    "for step in steps:\n",
    "    X = layers[0][0].forwardProp(train_img)\n",
    "    X = layers[0][1].forwardProp(X)\n",
    "    X = layers[1][0].forwardProp(X)\n",
    "    X = layers[1][1].forwardProp(X)\n",
    "    X = layers[2][0].forwardProp(X)\n",
    "    X = layers[2][1].forwardProp(X)\n",
    "    E = layers[3].forwardProp(X, train_ans)\n",
    "    \n",
    "    #print(E)\n",
    "    errors.append(E)\n",
    "    L = layers[3].backwardProp()\n",
    "    L = layers[2][1].backwardProp(L)\n",
    "    L = layers[2][0].backwardProp(L)\n",
    "    L = layers[1][1].backwardProp(L)\n",
    "    L = layers[1][0].backwardProp(L)\n",
    "    L = layers[0][1].backwardProp(L)\n",
    "    L = layers[0][0].backwardProp(L)\n",
    "\n",
    "plt.plot(steps, errors)\n",
    "plt.show()\n",
    "    "
   ]
  },
  {
   "cell_type": "code",
   "execution_count": 9,
   "metadata": {},
   "outputs": [
    {
     "name": "stdout",
     "output_type": "stream",
     "text": [
      "[[ 4.05149458e-04 -3.92074384e-04  3.93341614e-04 ...  5.80698314e-04\n",
      "  -4.47780629e-04  2.21490908e-06]\n",
      " [ 2.74817581e-05 -5.61017727e-04  2.85075613e-04 ... -2.24400328e-04\n",
      "   1.54010624e-04  2.25487947e-04]\n",
      " [-4.09485359e-05  2.04894986e-05  2.45552862e-04 ...  1.58865382e-04\n",
      "  -5.53956142e-05  1.28420506e-05]\n",
      " ...\n",
      " [ 1.80917054e-04 -2.42228070e-04  1.14661477e-04 ...  4.58557026e-05\n",
      "   3.52662754e-04  3.99381911e-04]\n",
      " [ 4.54422509e-04  9.99446580e-05 -4.19241768e-06 ...  3.11025356e-04\n",
      "  -3.13683700e-04  7.81240250e-04]\n",
      " [-4.27752786e-04 -6.54526263e-04 -5.79598950e-04 ...  1.18289124e-04\n",
      "   3.67489823e-04 -4.00026069e-04]]\n"
     ]
    }
   ],
   "source": [
    "print(layers[0][0].W)"
   ]
  }
 ],
 "metadata": {
  "kernelspec": {
   "display_name": "base",
   "language": "python",
   "name": "python3"
  },
  "language_info": {
   "codemirror_mode": {
    "name": "ipython",
    "version": 3
   },
   "file_extension": ".py",
   "mimetype": "text/x-python",
   "name": "python",
   "nbconvert_exporter": "python",
   "pygments_lexer": "ipython3",
   "version": "3.9.13"
  },
  "orig_nbformat": 4,
  "vscode": {
   "interpreter": {
    "hash": "bc3d4a3c7dbff72f14f38a3086f756d1b4fd12ee242fef247cc57636fbb2858b"
   }
  }
 },
 "nbformat": 4,
 "nbformat_minor": 2
}
